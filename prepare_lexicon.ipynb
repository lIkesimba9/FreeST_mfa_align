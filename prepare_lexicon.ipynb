{
 "cells": [
  {
   "cell_type": "code",
   "execution_count": 1,
   "id": "50d35211",
   "metadata": {},
   "outputs": [
    {
     "name": "stdout",
     "output_type": "stream",
     "text": [
      "data\t    environment.yml  pinyin-lexicon.txt  README.md  Untitled.ipynb\r\n",
      "Dockerfile  model\t     prepare_dataset.py  run.sh\r\n"
     ]
    }
   ],
   "source": [
    "!ls"
   ]
  },
  {
   "cell_type": "code",
   "execution_count": 2,
   "id": "9c3a035c",
   "metadata": {},
   "outputs": [],
   "source": [
    "lexicon_collection = []\n",
    "with open(\"pinyin-lexicon.txt\") as fil:\n",
    "    for line in fil:\n",
    "        lexicon_collection.append(line.split())"
   ]
  },
  {
   "cell_type": "code",
   "execution_count": 10,
   "id": "c21a804a",
   "metadata": {},
   "outputs": [],
   "source": [
    "with open(\"pinyin-lexicon_with_tab.txt\", \"wt\") as fil:\n",
    "    for lexicon in lexicon_collection:\n",
    "        text = \"\"\n",
    "        i = 0\n",
    "        for sym in lexicon:\n",
    "            if i == 0:\n",
    "                pass\n",
    "            elif i == 1:\n",
    "                text += '\\t'\n",
    "            else:\n",
    "                text += \" \"\n",
    "            text += sym\n",
    "            i+=1\n",
    "        fil.write(text + '\\n')"
   ]
  },
  {
   "cell_type": "code",
   "execution_count": null,
   "id": "7598dbe8",
   "metadata": {},
   "outputs": [],
   "source": []
  }
 ],
 "metadata": {
  "kernelspec": {
   "display_name": "Python 3 (ipykernel)",
   "language": "python",
   "name": "python3"
  },
  "language_info": {
   "codemirror_mode": {
    "name": "ipython",
    "version": 3
   },
   "file_extension": ".py",
   "mimetype": "text/x-python",
   "name": "python",
   "nbconvert_exporter": "python",
   "pygments_lexer": "ipython3",
   "version": "3.9.12"
  }
 },
 "nbformat": 4,
 "nbformat_minor": 5
}
